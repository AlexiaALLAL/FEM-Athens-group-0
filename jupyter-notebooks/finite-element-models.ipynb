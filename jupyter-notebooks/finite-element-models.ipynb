{
 "cells": [
  {
   "cell_type": "markdown",
   "metadata": {},
   "source": [
    "# Finite Element Models "
   ]
  },
  {
   "cell_type": "markdown",
   "metadata": {},
   "source": [
    "This project has the following goals: "
   ]
  },
  {
   "cell_type": "markdown",
   "metadata": {},
   "source": [
    "## Import Packages"
   ]
  },
  {
   "cell_type": "code",
   "execution_count": 1,
   "metadata": {},
   "outputs": [],
   "source": [
    "using LinearAlgebra\n",
    "using DifferentialEquations\n",
    "using SparseArrays\n",
    "using Plots\n",
    "using LaTeXStrings\n",
    "using BenchmarkTools "
   ]
  },
  {
   "cell_type": "markdown",
   "metadata": {},
   "source": [
    "## Section 1/: Introduction "
   ]
  },
  {
   "cell_type": "markdown",
   "metadata": {},
   "source": [
    "## Section 2:/ Modeling Impact \n",
    "\n",
    "Assume bus to be in stand-still. Assume sandbag to fall on door from inside of bus. Sandbag weighs 50 kg, is attached to rope of 1.5 m with point of attachment 1 m away from the door. Sandbag is considered to be suitable substitute of human body falling on door. Impact on door occurs non-elastically. The company expects a maximal displacement between 5 mm and 10 mm.  \n",
    "\n",
    "### Section 1.2:/ Amplitude of the Force at Impact \n",
    "Solve [gravity pendulum](en.wikipedia.org/wiki/Pendulum_(mechanics)#Simple_gravity_pendulum) model. Post process for acceleration. Take e.g. 90 percent of horizontal force component. Gives force in Newtons.  \n",
    "\n",
    "### Section 2.2/ Units of Applied Force  \n",
    "Solving elasticity equations requires specifying volumetric (surface) force per unit of volume (surface).   \n",
    "\n",
    "### Section 3.2:/ Spatial Dependence of Impact \n",
    "Divide amplitude of force by representative volume? Represent force as Dirac or Gaussian function? \n",
    "\n",
    "### Section 4.2:/ Time Dependence of Impact \n",
    "How long does impact take? "
   ]
  },
  {
   "cell_type": "markdown",
   "metadata": {},
   "source": [
    "## Section 3: Simplified Finite Element Models Developed by XiEngineering in 2020 (requires more detailed description) \n",
    "\n",
    "In 2020, XiEngineering developed simplified finite element models in Comsol Muliphysics. These models are models for a single bar attached to fixed and moving reference frames. These models are instructive in illustrating the concepts of assemblies and the various study types (static, transient, eigenmodes and frequency domain analysis) on these assemblies. These models and some documentation is available from the [shared drive](https://mega.nz/folder/XdEwnY4I#YfN8JGieWxhLArMujawLjg). \n",
    "\n",
    "### Simple\\_Bar\\_Rigid\\_Ends.mph\n",
    "A bar made of aluminum, connected to two blocks at either end. The blocks are explicitly defined as Rigid Domains, so they won't deform at all. The ends of the bars are connected to the faces of the blocks, and the Attachment surfaces on the bar ends and block faces are defined as Rigid. The bar ends are connected to the block faces with Spring-Damper features. A Body Load is applied to the bar, pulling it in the axial direction. The load is defined as a Time Dependent ramp. A Time Dependent study is run, to show the bar being pulled in the axial direction. An Eigenfrequency study is also performed to show the mode shapes. This does not depend on the applied load previously mentioned.\n",
    "\n",
    "### Simple\\_Bar\\_Flex\\_Beams.mph\n",
    "Same bar, but now it is connected to flexible beams, rather than rigid blocks. This intends to show the coupling between the bar and each of the beams, a more complex configuration. An alternative connection between the bar and the beams is given here. Rather than a Spring-Damper, this connection is a Fixed Joint with elasticity. The Attachments are now defined as Flexible, rather than Rigid. In the end, this does the same thing. It is just meant to show an alternative way to define a connection in the Multibody Dynamics module in COMSOL. A body load is still applied to the bar for the Time Dependent study, but this one can be defined as sinusoidal in time along the axial direction or just a ramp again. An Eigenfrequency study is also done again this does not consider the applied body load.\n",
    "\n",
    "### Simple\\_Bar\\_Flex\\_Frame.mph\n",
    "Same bar, but now it is connected to a rectangular frame, rather than individual beams. Otherwise, this is the same as Simple\\_Bar\\_Flex\\_Beams.mph\n",
    "\n",
    "### Simple\\_Door.mph\n",
    "Model of a toy bus door. The assembly consists of the frame and the leaf/armature components. Only half of this is done to demonstrate the use of symmetry in modelling. A Time Dependent Study, an Eigenfrequency study and a Frequency Domain study are performed. The Time Dependent study shows the door opening and being held in the correct orientation as the armature slides in a channel on the frame. The Eigenfrequency study shows Eigenmodes of this much more complex geometry. The Frequency Domain study shows actual deformation when a sinusoidal force is applied to a chosen surface."
   ]
  },
  {
   "cell_type": "markdown",
   "metadata": {},
   "source": [
    "## Section 4: More Realistic Finite Element Models Developed by XiEngineering in 2021 (requires more detailed description) \n",
    "\n",
    "In 2021, Ventura provided TU Delft with CAD models of the open and closed doors configurations. The CAD models are available on the [shared drive](https://mega.nz/folder/rAlySJiQ#qOdkFU4D7fnZKnhyj8nR-A). These models are likely too complex (as too detailed) to perform directly simulations on. \n",
    "\n",
    "In 2021, XiEngineering developed more advanced finite element models in Comsol Muliphysics. The CAD models provided by Ventura served as inspiration for the geometry definion (closed doors only, assuming symmetry only such that only one door is modeled). These models are instructive in showing how to perform the analysis of random induced vibrations in structures using Comsol Multiphysics. The models and some documentation is available on the [shared drive](https://mega.nz/folder/zBEQFT7R#7h5VuM3DYEoh7dPfJV5xJA). The documentation provides various links to valuable resources. "
   ]
  },
  {
   "cell_type": "markdown",
   "metadata": {},
   "source": [
    "## Section 5: Modeling Vibrations \n",
    "\n",
    "### Eigenmodes computations \n",
    "\n",
    "### Power Density Spectrum \n",
    "\n",
    "### Reduced Order Modeling "
   ]
  },
  {
   "cell_type": "markdown",
   "metadata": {},
   "source": [
    "## Section 6: Modeling Hinges \n",
    "\n",
    "### List of Hinges \n",
    "\n",
    "### Incorporation of Hinges in FE Formulation "
   ]
  },
  {
   "cell_type": "code",
   "execution_count": null,
   "metadata": {},
   "outputs": [],
   "source": []
  },
  {
   "cell_type": "markdown",
   "metadata": {},
   "source": [
    "## References"
   ]
  },
  {
   "cell_type": "markdown",
   "metadata": {},
   "source": []
  },
  {
   "cell_type": "code",
   "execution_count": null,
   "metadata": {},
   "outputs": [],
   "source": []
  }
 ],
 "metadata": {
  "kernelspec": {
   "display_name": "Julia 1.8.1",
   "language": "julia",
   "name": "julia-1.8"
  },
  "language_info": {
   "file_extension": ".jl",
   "mimetype": "application/julia",
   "name": "julia",
   "version": "1.8.1"
  }
 },
 "nbformat": 4,
 "nbformat_minor": 2
}
