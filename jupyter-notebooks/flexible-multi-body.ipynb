{
 "cells": [
  {
   "cell_type": "markdown",
   "id": "b8f1b6b5",
   "metadata": {},
   "source": [
    "# Flexible Multi Body Models \n",
    "\n",
    "The goal of this project is to consider flexible multi body models. We assume the door to be an assembly of flexible bar (or plate) attached to the bus.\n",
    "\n",
    "As before, we aim at \n",
    "1. a static analysis; \n",
    "2. a transient ansalysis; \n",
    "3. an eigenmode analysis; \n",
    "4. a vibration analysis; "
   ]
  },
  {
   "cell_type": "markdown",
   "id": "e40498b1",
   "metadata": {},
   "source": [
    "## Section 2:/ Introduction  "
   ]
  },
  {
   "cell_type": "markdown",
   "id": "351f9ac3",
   "metadata": {},
   "source": [
    "## Section 3:/ Theoretical Part \n",
    "\n",
    "Literature study on how to combine \n",
    "1. Lagrange mechanics for various parts;\n",
    "2. the finite element method per part;\n",
    "3. a description of the connection between the parts (hinges and joints); "
   ]
  },
  {
   "cell_type": "markdown",
   "id": "36335520",
   "metadata": {},
   "source": [
    "## Section 4:/ Simplified Models \n",
    "\n",
    "Simplified models developed in Comsol Multiphysics before. See [link](https://mega.nz/folder/XdEwnY4I#YfN8JGieWxhLArMujawLjg). Provide more detailed description of what has been done in the past. How to reproducre in Julia? "
   ]
  },
  {
   "cell_type": "markdown",
   "id": "d89c24de",
   "metadata": {},
   "source": [
    "## Section 5:/ More Complex Models \n",
    "\n",
    "More complex models developed in Comsol Multiphysics before. See [link](https://mega.nz/folder/zBEQFT7R#7h5VuM3DYEoh7dPfJV5xJA). Provide more detailed description of what has been done in the past. How to reproducre in Julia? "
   ]
  },
  {
   "cell_type": "markdown",
   "id": "ffacc872",
   "metadata": {},
   "source": [
    "## References \n",
    "\n",
    "References on wiki \n",
    "1. [wiki on kinematic pairs](https://en.wikipedia.org/wiki/Kinematic_pair): need to study in detail to be able to explain all the joints used in the XiEngineering module; \n",
    "2. [Book: Flexible Multibody Dynamics](https://link.springer.com/book/10.1007/978-94-007-0335-3): TAA Textbook Excellence Award\n",
    "\n",
    "References in Comsol Multiphysics: \n",
    "1. [COMSOL Multiphysics Users Guide - Random Vibration Analysis](https://doc.comsol.com/5.6/doc/com.comsol.help.sme/sme_ug_theory.06.46.html#3868798) \n",
    "2. [Eigenfrequency Analysis on Multiphysics Cyclopedia](https://www.comsol.com/multiphysics/eigenfrequency-analysis) "
   ]
  },
  {
   "cell_type": "code",
   "execution_count": null,
   "id": "a11cb8e3",
   "metadata": {},
   "outputs": [],
   "source": []
  }
 ],
 "metadata": {
  "kernelspec": {
   "display_name": "Julia 1.6.2",
   "language": "julia",
   "name": "julia-1.6"
  },
  "language_info": {
   "file_extension": ".jl",
   "mimetype": "application/julia",
   "name": "julia",
   "version": "1.6.2"
  }
 },
 "nbformat": 4,
 "nbformat_minor": 5
}
