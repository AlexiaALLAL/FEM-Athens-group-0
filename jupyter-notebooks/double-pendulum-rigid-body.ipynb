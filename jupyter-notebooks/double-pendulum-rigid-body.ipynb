{
 "cells": [
  {
   "cell_type": "markdown",
   "id": "4abc8c56",
   "metadata": {},
   "source": [
    "# Double Pendulum using RigidBodyDynamics"
   ]
  },
  {
   "cell_type": "code",
   "execution_count": 7,
   "id": "ef3c184b",
   "metadata": {},
   "outputs": [
    {
     "data": {
      "text/plain": [
       "SpatialInertia expressed in \"upper_link\" (id = 10):\n",
       "mass: 1.0\n",
       "center of mass: Point3D in \"upper_link\": [0.0, 0.0, -0.5]\n",
       "moment of inertia (about origin of \"upper_link\" (id = 10):\n",
       "[0.0 0.0 0.0; 0.0 0.333 0.0; 0.0 0.0 0.0]"
      ]
     },
     "execution_count": 7,
     "metadata": {},
     "output_type": "execute_result"
    }
   ],
   "source": [
    "using RigidBodyDynamics\n",
    "using LinearAlgebra\n",
    "using StaticArrays\n",
    "using Plots\n",
    "using MeshCatMechanisms\n",
    "\n",
    "# ## Creating a double pendulum `Mechanism`\n",
    "\n",
    "# We're going to create a simple `Mechanism` that represents a \n",
    "# [double pendulum](https://en.wikipedia.org/wiki/Double_pendulum). \n",
    "# The `Mechanism` type can be thought of as an interconnection of rigid bodies\n",
    "# and joints.\n",
    "#\n",
    "# We'll start by creating a 'root' rigid body, representing the fixed world, \n",
    "# and using it to create a new `Mechanism`:\n",
    "\n",
    "g = -9.81 # gravitational acceleration in z-direction\n",
    "world = RigidBody{Float64}(\"world\")\n",
    "doublependulum = Mechanism(world; gravity = SVector(0, 0, g))\n",
    "\n",
    "\n",
    "# Note that the `RigidBody` type is parameterized on the 'scalar type', \n",
    "# here `Float64`.\n",
    "#\n",
    "# We'll now add a second body, called 'upper link', to the `Mechanism`. \n",
    "# We'll attach it to the world with a revolute joint, with the $y$-axis as \n",
    "# the axis of rotation. We'll start by creating a `SpatialInertia`, \n",
    "# which stores the inertial properties of the new body:\n",
    "\n",
    "axis = SVector(0., 1., 0.) # joint axis\n",
    "I_1 = 0.333 # moment of inertia about joint axis\n",
    "c_1 = -0.5 # center of mass location with respect to joint axis\n",
    "m_1 = 1. # mass\n",
    "frame1 = CartesianFrame3D(\"upper_link\") # the reference frame in which the spatial inertia will be expressed\n",
    "inertia1 = SpatialInertia(frame1,\n",
    "    moment=I_1 * axis * axis',\n",
    "    com=SVector(0, 0, c_1),\n",
    "    mass=m_1)"
   ]
  },
  {
   "cell_type": "code",
   "execution_count": 12,
   "id": "c5a62c17",
   "metadata": {},
   "outputs": [
    {
     "data": {
      "text/plain": [
       "Spanning tree:\n",
       "Vertex: world (root)\n",
       "  Vertex: upper_link, Edge: shoulder\n",
       "    Vertex: lower_link, Edge: elbow\n",
       "No non-tree joints."
      ]
     },
     "execution_count": 12,
     "metadata": {},
     "output_type": "execute_result"
    }
   ],
   "source": [
    "\n",
    "# Note that the created `SpatialInertia` is annotated with the frame in which it \n",
    "# is expressed (in the form of a `CartesianFrame3D`). This is a common theme \n",
    "# among `RigidBodyDynamics` objects. Storing frame information with the data \n",
    "# obviates the need for the complicated variable naming conventions that are \n",
    "# used in some other libraries to disambiguate the frame in which quantities \n",
    "# are expressed. It also enables automated reference frame checks.\n",
    "\n",
    "# We'll now create the second body:\n",
    "\n",
    "upperlink = RigidBody(inertia1)\n",
    "\n",
    "\n",
    "# and a new revolute joint called 'shoulder':\n",
    "\n",
    "shoulder = Joint(\"shoulder\", Revolute(axis))\n",
    "\n",
    "\n",
    "# Creating a `Joint` automatically constructs two new `CartesianFrame3D` objects: \n",
    "# a frame directly before the joint, and one directly after. To attach the new \n",
    "# body to the world by this joint, we'll have to specify where the frame before \n",
    "# the joint is located on the parent body (here, the world):\n",
    "\n",
    "before_shoulder_to_world = one(Transform3D,\n",
    "    frame_before(shoulder), default_frame(world))\n",
    "\n",
    "\n",
    "# Now we can attach the upper link to the world:\n",
    "\n",
    "attach!(doublependulum, world, upperlink, shoulder,\n",
    "    joint_pose = before_shoulder_to_world)\n",
    "\n",
    "\n",
    "# which changes the tree representation of the `Mechanism`.\n",
    "\n",
    "# We can attach the lower link in similar fashion:\n",
    "\n",
    "l_1 = -1. # length of the upper link\n",
    "I_2 = 0.333 # moment of inertia about joint axis\n",
    "c_2 = -0.5 # center of mass location with respect to joint axis\n",
    "m_2 = 1. # mass\n",
    "inertia2 = SpatialInertia(CartesianFrame3D(\"lower_link\"),\n",
    "    moment=I_2 * axis * axis',\n",
    "    com=SVector(0, 0, c_2),\n",
    "    mass=m_2)\n",
    "lowerlink = RigidBody(inertia2)\n",
    "elbow = Joint(\"elbow\", Revolute(axis))\n",
    "before_elbow_to_after_shoulder = Transform3D(\n",
    "    frame_before(elbow), frame_after(shoulder), SVector(0, 0, l_1))\n",
    "attach!(doublependulum, upperlink, lowerlink, elbow,\n",
    "    joint_pose = before_elbow_to_after_shoulder)\n",
    "\n",
    "\n",
    "# Now our double pendulum `Mechanism` is complete.\n",
    "\n",
    "# **Note**: instead of defining the `Mechanism` in this way, it is also possible \n",
    "# to load in a [URDF](http://wiki.ros.org/urdf) file (an XML file format used in ROS), \n",
    "# using the `parse_urdf` function, e.g.:\n",
    "\n",
    "srcdir = dirname(pathof(RigidBodyDynamics))\n",
    "urdf = joinpath(srcdir, \"..\", \"test\", \"urdf\", \"Acrobot.urdf\")\n",
    "mechanism = parse_urdf(urdf)"
   ]
  },
  {
   "cell_type": "code",
   "execution_count": 13,
   "id": "242bcbfe",
   "metadata": {},
   "outputs": [
    {
     "data": {
      "text/plain": [
       "4-element SegmentedVector{JointID, Float64, Base.OneTo{JointID}, Vector{Float64}}:\n",
       "  8.4560158083e-314\n",
       "  2.8178663675e-314\n",
       " 10.124916215693656\n",
       "  4.814127424056644"
      ]
     },
     "execution_count": 13,
     "metadata": {},
     "output_type": "execute_result"
    }
   ],
   "source": [
    "# ## The state of a `Mechanism`\n",
    "\n",
    "# A `Mechanism` stores the joint/rigid body layout, but no state information. State information is separated out into a `MechanismState` object:\n",
    "\n",
    "state = MechanismState(doublependulum)\n",
    "\n",
    "\n",
    "# Let's first set the configurations and velocities of the joints:\n",
    "\n",
    "set_configuration!(state, shoulder, 0.3)\n",
    "set_configuration!(state, elbow, 0.4)\n",
    "set_velocity!(state, shoulder, 1.)\n",
    "set_velocity!(state, elbow, 2.);\n",
    "\n",
    "\n",
    "# The joint configurations and velocities are stored as `Vector`s (denoted $q$ and $v$ respectively in this package) inside the `MechanismState` object:\n",
    "\n",
    "q = configuration(state)\n",
    "v = velocity(state)\n",
    "\n",
    "\n",
    "# ## Kinematics\n",
    "\n",
    "# We are now ready to do kinematics. Here's how you transform a point at the \n",
    "# origin of the frame after the elbow joint to world frame:\n",
    "\n",
    "transform(state, Point3D(frame_after(elbow), zero(SVector{3})),\n",
    "    default_frame(world))\n",
    "\n",
    "\n",
    "# Other objects like `Wrench`es, `Twist`s, and `SpatialInertia`s can be transformed in similar fashion.\n",
    "\n",
    "# You can also ask for the homogeneous transform to world:\n",
    "\n",
    "transform_to_root(state, frame_after(elbow))\n",
    "\n",
    "\n",
    "# Or a relative transform:\n",
    "\n",
    "relative_transform(state, frame_after(elbow), frame_after(shoulder))\n",
    "\n",
    "\n",
    "# and here's the center of mass of the double pendulum:\n",
    "\n",
    "center_of_mass(state)\n",
    "\n",
    "\n",
    "# ## Dynamics\n",
    "\n",
    "# A `MechanismState` can also be used to compute quantities related to the dynamics of the `Mechanism`. Here we compute the mass matrix:\n",
    "\n",
    "mass_matrix(state)\n",
    "\n",
    "\n",
    "# Note that there is also a zero-allocation version, `mass_matrix!` (the `!` at the end of a method is a Julia convention signifying that the function is 'in-place', i.e. modifies its input data).\n",
    "\n",
    "# We can do inverse dynamics as follows (note again that there is a non-allocating version of this method as well):\n",
    "\n",
    "v̇ = similar(velocity(state)) # the joint acceleration vector, i.e., the time derivative of the joint velocity vector v\n",
    "v̇[shoulder][1] = 1\n",
    "v̇[elbow][1] = 2\n",
    "inverse_dynamics(state, v̇)"
   ]
  },
  {
   "cell_type": "code",
   "execution_count": 14,
   "id": "2fd40ca1",
   "metadata": {},
   "outputs": [],
   "source": [
    "# ## Simulation\n",
    "\n",
    "# Let's simulate the double pendulum for 5 seconds, starting from the state we defined earlier. For this, we can use the basic `simulate` function:\n",
    "\n",
    "ts, qs, vs = simulate(state, 5., Δt = 1e-3);\n",
    "\n",
    "\n",
    "# `simulate` returns a vector of times (`ts`) and associated joint configurations (`qs`) and velocities (`vs`). \n",
    "# You can of course plot the trajectories using your favorite plotting package \n",
    "# (see e.g. [Plots.jl](https://github.com/JuliaPlots/Plots.jl)). \n",
    "# The [MeshCatMechanisms](https://github.com/JuliaRobotics/MeshCatMechanisms.jl) or \n",
    "# [RigidBodyTreeInspector](https://github.com/rdeits/RigidBodyTreeInspector.jl) \n",
    "# packages can also be used for 3D animation of the double pendulum in action. \n",
    "# See also [RigidBodySim.jl](https://github.com/JuliaRobotics/RigidBodySim.jl) for \n",
    "# a more full-fledge simulation environment.\n",
    "\n",
    "# A lower level interface for simulation/ODE integration with more options is also available.\n",
    "# Consult the documentation for more information.\n",
    "# In addition, [RigidBodySim.jl](https://github.com/JuliaRobotics/RigidBodySim.jl) offers a more full-featured simulation environment."
   ]
  },
  {
   "cell_type": "code",
   "execution_count": 15,
   "id": "e88f3834",
   "metadata": {},
   "outputs": [
    {
     "name": "stderr",
     "output_type": "stream",
     "text": [
      "┌ Info: MeshCat server started. You can open the visualizer by visiting the following URL in your browser:\n",
      "│ http://127.0.0.1:8700\n",
      "└ @ MeshCat /Users/djplahaye/.julia/packages/MeshCat/oC0sL/src/visualizer.jl:73\n"
     ]
    }
   ],
   "source": [
    "mvis = MechanismVisualizer(mechanism, URDFVisuals(urdf));"
   ]
  },
  {
   "cell_type": "code",
   "execution_count": 23,
   "id": "6c917048",
   "metadata": {},
   "outputs": [
    {
     "ename": "LoadError",
     "evalue": "MethodError: no method matching animate(::MechanismVisualizer{MechanismState{Float64, Float64, Float64, TypeSortedCollections.TypeSortedCollection{Tuple{Vector{Joint{Float64, Revolute{Float64}}}}, 1}}, MeshCat.Visualizer})\n\u001b[0mClosest candidates are:\n\u001b[0m  animate(::MechanismVisualizer, \u001b[91m::Vector{Float64}\u001b[39m, \u001b[91m::AbstractVector{var\"#s14\"} where var\"#s14\"<:AbstractVector{Float64}\u001b[39m; fps, realtimerate) at /Users/djplahaye/.julia/packages/MeshCatMechanisms/PfrGE/src/animate.jl:10",
     "output_type": "error",
     "traceback": [
      "MethodError: no method matching animate(::MechanismVisualizer{MechanismState{Float64, Float64, Float64, TypeSortedCollections.TypeSortedCollection{Tuple{Vector{Joint{Float64, Revolute{Float64}}}}, 1}}, MeshCat.Visualizer})\n\u001b[0mClosest candidates are:\n\u001b[0m  animate(::MechanismVisualizer, \u001b[91m::Vector{Float64}\u001b[39m, \u001b[91m::AbstractVector{var\"#s14\"} where var\"#s14\"<:AbstractVector{Float64}\u001b[39m; fps, realtimerate) at /Users/djplahaye/.julia/packages/MeshCatMechanisms/PfrGE/src/animate.jl:10",
      "",
      "Stacktrace:",
      " [1] top-level scope",
      "   @ In[23]:1",
      " [2] eval",
      "   @ ./boot.jl:360 [inlined]",
      " [3] include_string(mapexpr::typeof(REPL.softscope), mod::Module, code::String, filename::String)",
      "   @ Base ./loading.jl:1116"
     ]
    }
   ],
   "source": [
    "MeshCatMechanisms.animate(mvis)"
   ]
  },
  {
   "cell_type": "code",
   "execution_count": 20,
   "id": "ed023ca3",
   "metadata": {},
   "outputs": [
    {
     "ename": "LoadError",
     "evalue": "BoundsError: attempt to access 2-element SegmentedVector{JointID, Float64, Base.OneTo{JointID}, Vector{Float64}} at index [1, 2, 3, 4]",
     "output_type": "error",
     "traceback": [
      "BoundsError: attempt to access 2-element SegmentedVector{JointID, Float64, Base.OneTo{JointID}, Vector{Float64}} at index [1, 2, 3, 4]",
      "",
      "Stacktrace:",
      " [1] copyto_unaliased!(deststyle::IndexCartesian, dest::SegmentedVector{JointID, Float64, Base.OneTo{JointID}, Vector{Float64}}, srcstyle::IndexLinear, src::Vector{Float64})",
      "   @ Base ./abstractarray.jl:964",
      " [2] copyto!",
      "   @ ./abstractarray.jl:950 [inlined]",
      " [3] set_configuration!(state::MechanismState{Float64, Float64, Float64, TypeSortedCollections.TypeSortedCollection{Tuple{Vector{Joint{Float64, Revolute{Float64}}}}, 1}}, q::Vector{Float64})",
      "   @ RigidBodyDynamics ~/.julia/packages/RigidBodyDynamics/8B04X/src/mechanism_state.jl:421",
      " [4] macro expansion",
      "   @ ~/.julia/packages/MeshCatMechanisms/PfrGE/src/animate.jl:25 [inlined]",
      " [5] macro expansion",
      "   @ ~/.julia/packages/LoopThrottle/Wpdca/src/LoopThrottle.jl:89 [inlined]",
      " [6] animate(vis::MechanismVisualizer{MechanismState{Float64, Float64, Float64, TypeSortedCollections.TypeSortedCollection{Tuple{Vector{Joint{Float64, Revolute{Float64}}}}, 1}}, MeshCat.Visualizer}, times::Vector{Float64}, configurations::Vector{SegmentedVector{JointID, Float64, Base.OneTo{JointID}, Vector{Float64}}}; fps::Float64, realtimerate::Float64)",
      "   @ MeshCatMechanisms ~/.julia/packages/MeshCatMechanisms/PfrGE/src/animate.jl:22",
      " [7] top-level scope",
      "   @ In[20]:1",
      " [8] eval",
      "   @ ./boot.jl:360 [inlined]",
      " [9] include_string(mapexpr::typeof(REPL.softscope), mod::Module, code::String, filename::String)",
      "   @ Base ./loading.jl:1116"
     ]
    }
   ],
   "source": [
    "MeshCatMechanisms.animate(mvis, ts, qs; realtimerate = 1.);"
   ]
  },
  {
   "cell_type": "code",
   "execution_count": null,
   "id": "645dc7af",
   "metadata": {},
   "outputs": [],
   "source": []
  },
  {
   "cell_type": "code",
   "execution_count": null,
   "id": "f788ae7e",
   "metadata": {},
   "outputs": [],
   "source": []
  }
 ],
 "metadata": {
  "kernelspec": {
   "display_name": "Julia 1.6.2",
   "language": "julia",
   "name": "julia-1.6"
  },
  "language_info": {
   "file_extension": ".jl",
   "mimetype": "application/julia",
   "name": "julia",
   "version": "1.6.2"
  }
 },
 "nbformat": 4,
 "nbformat_minor": 5
}
