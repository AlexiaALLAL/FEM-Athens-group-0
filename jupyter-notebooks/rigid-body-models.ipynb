{
 "cells": [
  {
   "cell_type": "markdown",
   "id": "70b04fc0",
   "metadata": {},
   "source": [
    "# Rigid Body Dynamics Models (no Mechanical Deformations)"
   ]
  },
  {
   "cell_type": "markdown",
   "id": "c2080be4",
   "metadata": {},
   "source": [
    "This sub-project aims at developing rigid body models for vibrating bus doors. In this project we assume the door to have physical dimensions such as a length, height and width. This is in contrast with single and multiple point mass systems developed before. We thus assume the door to be a single rigid aluminium bar (with a given length and cross-sectional aria), an interconnection of rigid bars to form a frame, or a frame in which a glass plate is clamped. The door is assumed to be attached to the bus via joints (L-shaped door arm at the top and attachment to the vertical door shaft at the bottom). The door is assumed to bounce from the bus frame. The left and right door leave as assumed to bounce against each other. The (components of the) door are assumed to undergo a rigid body motion (translation and rotation) without deforming mechanically. The door leaves and their suspension mechanism can thus be described as a rigid multi-body mechanism.\n",
    "\n",
    "As before, we aim at: \n",
    "1. static analysis to estimate e.g. maximum displacement and acceleration given a load); \n",
    "2. transient analysis to follow orbit of point mass(es) in time; \n",
    "3. eigenmode analysis to estimate dominant modes of the system. These eigenmodes can be used to  construct a reduced order model of the system; \n",
    "4. vivrational analysis subject to stochastic load given by a power spectral density distribution;"
   ]
  },
  {
   "cell_type": "markdown",
   "id": "0ab5a94f",
   "metadata": {},
   "source": [
    "## Section 1:/ Introduction \n",
    "\n",
    "### Theory \n",
    "We will make use of Lagrangian mechanics and the Euler-Lagrange equations, see references. The incorporation of joints, of damping and of the bouncing from walls requires looking into. \n",
    "\n",
    "### Implementation in Julia \n",
    "\n",
    "#### First Alternative \n",
    "A first alternative is to implement the Euler-Lagrange equations from scratch in Julia. An example is given [here](https://discourse.julialang.org/t/symbolics-jl-modelingtoolkit-jl-differentialequations-jl-and-the-lagrangian-approach/89629/3). \n",
    "\n",
    "Extend example to Lagrange mechanics for mass-spring and mass-spring-damper (add reactive force) system, extend to non-linear springs (compare linear and non-linear for large displacements), to interconnected masses in 1D and to higher spatial dimensions. \n",
    "\n",
    "Extend example to Lagrange mechanics for pendulum, damped pendulum (add reactive force), non-linear pendulum (allow large displacements), extend to motion in two angles and elastic suspension of mass. \n",
    "\n",
    "#### Second Alternative\n",
    "A second alternative is to make use of [RigidBodyDynamics.jl](https://juliarobotics.org/RigidBodyDynamics.jl/stable/), its dependencies and related tools. A hierarchy of models of the geometry of the bus door will be constructed and stored as Unified Robot Description Format (UDRF) files. In simplified version, the door can be represented as a bar or plate attached to the reference frame by springs and dampers. The numerical simulation of the orbit of the various parts of the assembly will be performed using the DifferentialEquations.jl package. The longer term goal of this project is to describe the oblique outward motion of the door in case of extreme excitation. A representative case of such conditions is the bus driving over a cobble stone road.\n",
    "\n",
    "The second alternative thus foresees in the following three stages \n",
    "1. the modeling of geometry of bus door and bus door assembly in Unified Robot Description Format or variant thereof and formulation of equation of motion of bus door subject to external load; the package RigidBodyDynamics.jl will be used; \n",
    "2. numerical solution of the equations of motions; the package DifferentialEquations.jl will be used; \n",
    "3. visualization of the computed solution; the package MeshCatMechanism.jl (or alternative) will be used; \n",
    "The above four-step procedure can be repeated on a scale of models for the bus door of increasing complexity and physical realism. The double pendulum example given [here](https://juliarobotics.org/RigidBodyDynamics.jl/stable/generated/2.%20Closed-loop%20simulation%20and%20visualization/2.%20Closed-loop%20simulation%20and%20visualization/) will be used as example. Once the project is sufficiently comfortable with the double pendulum out-of-the-box tutorial, the following changes can be implemented\n",
    "* freeze joint linking two pieces of the double pendulum such that classical single pendulum is obtained; \n",
    "* implement other types of joints; \n",
    "* link bottom of pendulum by spring and damper to fixed reference; \n",
    "* allow pendulum of bounce from wall; \n",
    "* allow pendulum to move in 3D; \n",
    "* replace bar by plate; RigidBody.jl does provide function for [plate](https://docs.juliahub.com/RigidBodyTools/hU9tt/0.1.9/manual/methods/#RigidBodyTools.Plate);\n",
    "* replace single plate by double plate with hinges, bouncing from door portal and between each other. \n",
    "\n",
    "The Euler-Lagrange equations give raise to systems of ordinary differential equations that are often stiff. The numerical solution of such systems requires due care. Some details are in [paper on multibody dynamics](https://juliacon.github.io/proceedings-papers/jcon.00043/10.21105.jcon.00043.pdf). "
   ]
  },
  {
   "cell_type": "markdown",
   "id": "f57446a0",
   "metadata": {},
   "source": [
    "## Section 2:/ Rigid Body Bar Models\n",
    "\n",
    "1. <b> horizontal cut of door </b>: Assume bar attached at both end points to reference system by springs and dampers. Assume bar to both translate in a plane (2 degrees of freedom $x(t)$ and $y(t)$) and rotate around its center of gravity (1 degree of freedom $\\theta(t)$). How does bar move when subjected to external forcing? External forcing can either be impact on the door or shaking of the reference system. Derive equations of motion using Lagrangian mechanics (Euler-Lagrange equations). Solve equations of motion using suitable time integration method. Visualize computed solution for various external excitations;  \n",
    "\n",
    "2. <b> vertical cut of door </b>: Assume bar to be hinging from one point and to be suspended by a spring and damper on the other end point. Extend previous model to current situation.\n",
    "\n",
    "3. Assume bar to be replaced by interconnection of various bar, e.g., top, middle and bottom door section. Assume three degrees of freedom (2 translational and 1 rotational) to each section. Repeat above; "
   ]
  },
  {
   "cell_type": "markdown",
   "id": "6d4ba40a",
   "metadata": {},
   "source": [
    "## Section 3:/ Rigid Body Plate Models\n",
    "Extend above from bar to plate. "
   ]
  },
  {
   "cell_type": "markdown",
   "id": "1c433c28",
   "metadata": {},
   "source": [
    "## Section 4:/ Input/Output Relation in Terms of Power Density Spectrum\n",
    "Apply a given power density spectrum of acceleration as applied force. What is the power density spectrum of the moving mass. "
   ]
  },
  {
   "cell_type": "markdown",
   "id": "92e6d7ff",
   "metadata": {},
   "source": [
    "## Section 5:/ Elastic and Non-Elastic Impact of Object on Door \n",
    "Modeling collistion of object on wall. See e.g. [wiki on collision](https://en.wikipedia.org/wiki/Collision#Examples_of_collisions_analyzed_numerically). "
   ]
  },
  {
   "cell_type": "markdown",
   "id": "c7e3d65d",
   "metadata": {},
   "source": [
    "## References \n",
    "\n",
    "1. Lagrangian mechanics: [course notes](https://www.ecs.csun.edu/~nhuttho/me584/Chapter%203%20Mechanical%20Systems_part2.pdf)\n",
    "2. Lagrangian mechanics [wiki](https://en.wikipedia.org/wiki/Lagrangian_mechanics)\n",
    "3. Euler-Lagrange Equations [wiki](https://en.wikipedia.org/wiki/Euler–Lagrange_equation)\n",
    "4. [wiki on multibody dynamics](https://en.wikipedia.org/wiki/Multibody_system)"
   ]
  },
  {
   "cell_type": "code",
   "execution_count": null,
   "id": "a6f31756",
   "metadata": {},
   "outputs": [],
   "source": []
  },
  {
   "cell_type": "code",
   "execution_count": null,
   "id": "cb8e31b6",
   "metadata": {},
   "outputs": [],
   "source": []
  }
 ],
 "metadata": {
  "kernelspec": {
   "display_name": "Julia 1.8.1",
   "language": "julia",
   "name": "julia-1.8"
  },
  "language_info": {
   "file_extension": ".jl",
   "mimetype": "application/julia",
   "name": "julia",
   "version": "1.8.1"
  }
 },
 "nbformat": 4,
 "nbformat_minor": 5
}
