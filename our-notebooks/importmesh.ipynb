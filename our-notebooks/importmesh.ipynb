{
 "cells": [
  {
   "cell_type": "code",
   "execution_count": 2,
   "metadata": {},
   "outputs": [],
   "source": [
    "using Gmsh\n",
    "using Gridap\n",
    "using GridapGmsh"
   ]
  },
  {
   "attachments": {},
   "cell_type": "markdown",
   "metadata": {},
   "source": [
    "Import the Mesh to a model and get the nodes and elements"
   ]
  },
  {
   "cell_type": "code",
   "execution_count": 87,
   "metadata": {},
   "outputs": [
    {
     "name": "stdout",
     "output_type": "stream",
     "text": [
      "Info    : Reading '../data/VenturaAccelerometer/test_mesh_v2.msh'...\n",
      "Info    : 1 entity\n",
      "Info    : 8 nodes\n",
      "Info    : 6 elements\n",
      "Info    : Done reading '../data/VenturaAccelerometer/test_mesh_v2.msh'\n"
     ]
    },
    {
     "data": {
      "text/plain": [
       "8-element Vector{VectorValue{2, Float64}}:\n",
       " VectorValue{2, Float64}(-1.0, 0.5)\n",
       "  VectorValue{2, Float64}(0.0, 1.0)\n",
       " VectorValue{2, Float64}(-1.0, 1.0)\n",
       " VectorValue{2, Float64}(-1.0, 0.0)\n",
       "  VectorValue{2, Float64}(0.0, 0.0)\n",
       "  VectorValue{2, Float64}(1.0, 0.0)\n",
       "  VectorValue{2, Float64}(1.0, 0.5)\n",
       "  VectorValue{2, Float64}(1.0, 1.0)"
      ]
     },
     "metadata": {},
     "output_type": "display_data"
    }
   ],
   "source": [
    "model = GmshDiscreteModel(\"../data/VenturaAccelerometer/test_mesh_v2.msh\")\n",
    "elements = model.grid.cell_node_ids\n",
    "nodes = model.grid.node_coordinates\n",
    "\n"
   ]
  },
  {
   "attachments": {},
   "cell_type": "markdown",
   "metadata": {},
   "source": [
    "Get all the areas of the elements"
   ]
  },
  {
   "cell_type": "code",
   "execution_count": 95,
   "metadata": {},
   "outputs": [
    {
     "ename": "BoundsError",
     "evalue": "BoundsError: attempt to access 8-element Vector{VectorValue{2, Float64}} at index [9]",
     "output_type": "error",
     "traceback": [
      "BoundsError: attempt to access 8-element Vector{VectorValue{2, Float64}} at index [9]\n",
      "\n",
      "Stacktrace:\n",
      " [1] getindex(A::Vector{VectorValue{2, Float64}}, i1::Int64)\n",
      "   @ Base ./array.jl:805\n",
      " [2] top-level scope\n",
      "   @ ~/dev/Athens/FEM-Athens-group-0/our-notebooks/importmesh.ipynb:10"
     ]
    }
   ],
   "source": [
    "Areas = zeros(length(elements))\n",
    "A = 0\n",
    "#print(nodes[2][2])\n",
    "for (i, element) in enumerate(elements)\n",
    "    A1 = 0\n",
    "    A2 = 0\n",
    "    # A1 += nodes[element[end]][1]*nodes[element[1]][2]\n",
    "    # A2 += nodes[element[end]][2]*nodes[element[1]][1]\n",
    "    println(nodes)\n",
    "    for i in element[1:end-1]\n",
    "        A1 += nodes[i][1]*nodes[i+1][2]\n",
    "        A2 += nodes[i][2]*nodes[i+1][1]\n",
    "    end\n",
    "    A += abs(A1-A2)/2  \n",
    "    Areas[i] = abs(A1-A2)/2  \n",
    "\n",
    "end\n",
    "println(Areas)\n"
   ]
  },
  {
   "attachments": {},
   "cell_type": "markdown",
   "metadata": {},
   "source": [
    "Compute the K matrix"
   ]
  },
  {
   "cell_type": "code",
   "execution_count": null,
   "metadata": {},
   "outputs": [],
   "source": []
  },
  {
   "cell_type": "code",
   "execution_count": 83,
   "metadata": {},
   "outputs": [
    {
     "name": "stdout",
     "output_type": "stream",
     "text": [
      "[0.0 0.0 0.0 0.0; 0.0 0.0 0.0 0.0; 0.0 0.0 0.0 0.0; 0.0 0.0 0.0 0.0]\n",
      "[0.0 0.0 0.0 0.0; 0.0 0.0 0.0 0.0; 0.0 0.0 0.0 0.0; 0.0 0.0 0.0 0.0]\n"
     ]
    }
   ],
   "source": [
    "for element in elements\n",
    "    K2 = zeros(length(element), length(element))\n",
    "    #println(K2)\n",
    "end"
   ]
  }
 ],
 "metadata": {
  "kernelspec": {
   "display_name": "Julia 1.6.7",
   "language": "julia",
   "name": "julia-1.6"
  },
  "language_info": {
   "file_extension": ".jl",
   "mimetype": "application/julia",
   "name": "julia",
   "version": "1.6.7"
  },
  "orig_nbformat": 4
 },
 "nbformat": 4,
 "nbformat_minor": 2
}
