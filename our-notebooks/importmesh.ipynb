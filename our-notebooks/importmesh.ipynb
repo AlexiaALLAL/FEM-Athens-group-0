{
 "cells": [
  {
   "cell_type": "code",
   "execution_count": 44,
   "metadata": {},
   "outputs": [],
   "source": [
    "using Gmsh\n",
    "using Gridap\n",
    "using GridapGmsh\n",
    "using LinearAlgebra"
   ]
  },
  {
   "attachments": {},
   "cell_type": "markdown",
   "metadata": {},
   "source": [
    "Import the Mesh to a model and get the nodes and elements"
   ]
  },
  {
   "cell_type": "code",
   "execution_count": 4,
   "metadata": {},
   "outputs": [
    {
     "name": "stdout",
     "output_type": "stream",
     "text": [
      "Info    : Reading '../data/VenturaAccelerometer/test_mesh_v2.msh'...\n",
      "Info    : 1 entity\n",
      "Info    : 8 nodes\n",
      "Info    : 6 elements\n",
      "Info    : Done reading '../data/VenturaAccelerometer/test_mesh_v2.msh'\n"
     ]
    },
    {
     "data": {
      "text/plain": [
       "8-element Vector{VectorValue{2, Float64}}:\n",
       " VectorValue{2, Float64}(-1.0, 0.5)\n",
       "  VectorValue{2, Float64}(0.0, 1.0)\n",
       " VectorValue{2, Float64}(-1.0, 1.0)\n",
       " VectorValue{2, Float64}(-1.0, 0.0)\n",
       "  VectorValue{2, Float64}(0.0, 0.0)\n",
       "  VectorValue{2, Float64}(1.0, 0.0)\n",
       "  VectorValue{2, Float64}(1.0, 0.5)\n",
       "  VectorValue{2, Float64}(1.0, 1.0)"
      ]
     },
     "metadata": {},
     "output_type": "display_data"
    }
   ],
   "source": [
    "model = GmshDiscreteModel(\"../data/VenturaAccelerometer/test_mesh_v2.msh\")\n",
    "nodes = model.grid.node_coordinates\n",
    "\n"
   ]
  },
  {
   "cell_type": "code",
   "execution_count": 5,
   "metadata": {},
   "outputs": [
    {
     "data": {
      "text/plain": [
       "6-element Gridap.Arrays.Table{Int32, Vector{Int32}, Vector{Int32}}:\n",
       " [1, 2, 3]\n",
       " [1, 4, 5]\n",
       " [5, 6, 7]\n",
       " [1, 2, 5]\n",
       " [2, 5, 7]\n",
       " [2, 7, 8]"
      ]
     },
     "metadata": {},
     "output_type": "display_data"
    }
   ],
   "source": [
    "elements = model.grid.cell_node_ids"
   ]
  },
  {
   "attachments": {},
   "cell_type": "markdown",
   "metadata": {},
   "source": [
    "Get all the areas of the elements"
   ]
  },
  {
   "cell_type": "code",
   "execution_count": 6,
   "metadata": {},
   "outputs": [
    {
     "name": "stdout",
     "output_type": "stream",
     "text": [
      "[0.25, 0.25, 0.25, 0.5, 0.5, 0.25]\n",
      "2.0"
     ]
    },
    {
     "name": "stdout",
     "output_type": "stream",
     "text": [
      "\n",
      "length"
     ]
    },
    {
     "name": "stdout",
     "output_type": "stream",
     "text": [
      "\n"
     ]
    }
   ],
   "source": [
    "Areas = zeros(length(elements))\n",
    "A = 0\n",
    "for (i, element) in enumerate(elements)\n",
    "    area = 0\n",
    "    for j in 1:length(element)\n",
    "        k = j % length(element) + 1\n",
    "        area += nodes[element[j]][1] * nodes[element[k]][2] - nodes[element[j]][2] * nodes[element[k]][1]\n",
    "    end \n",
    "    Areas[i] = abs(area)/2  \n",
    "\n",
    "end\n",
    "println(Areas)\n",
    "println(sum(Areas))\n",
    "println(length)\n"
   ]
  },
  {
   "attachments": {},
   "cell_type": "markdown",
   "metadata": {},
   "source": [
    "Define the F funtion"
   ]
  },
  {
   "cell_type": "code",
   "execution_count": 61,
   "metadata": {},
   "outputs": [
    {
     "data": {
      "text/plain": [
       "f (generic function with 1 method)"
      ]
     },
     "metadata": {},
     "output_type": "display_data"
    }
   ],
   "source": [
    "using Plots\n",
    "function f(x, y, t)\n",
    "    x0 = 0\n",
    "    y0 = 0.5\n",
    "    sigmax = 0.2\n",
    "    sigmay = 0.2\n",
    "    return exp(-(((x-x0)^2)/(2*sigmax^2) + (y-y0)^2/(2*sigmay^2)))\n",
    "end\n"
   ]
  },
  {
   "attachments": {},
   "cell_type": "markdown",
   "metadata": {},
   "source": [
    "Compute the K matrix FINALLY"
   ]
  },
  {
   "cell_type": "markdown",
   "metadata": {},
   "source": []
  },
  {
   "cell_type": "code",
   "execution_count": 63,
   "metadata": {},
   "outputs": [
    {
     "data": {
      "text/plain": [
       "8×8 Matrix{Float64}:\n",
       "  2.5   -0.25  -1.0   -1.0   -0.25   0.0    0.0    0.0\n",
       " -0.25   1.75  -0.25   0.0   -0.75   0.0   -0.25  -0.25\n",
       " -1.0   -0.25   1.25   0.0    0.0    0.0    0.0    0.0\n",
       " -1.0    0.0    0.0    1.25  -0.25   0.0    0.0    0.0\n",
       " -0.25  -0.75   0.0   -0.25   1.75  -0.25  -0.25   0.0\n",
       "  0.0    0.0    0.0    0.0   -0.25   1.25  -1.0    0.0\n",
       "  0.0   -0.25   0.0    0.0   -0.25  -1.0    2.5   -1.0\n",
       "  0.0   -0.25   0.0    0.0    0.0    0.0   -1.0    1.25"
      ]
     },
     "metadata": {},
     "output_type": "display_data"
    }
   ],
   "source": [
    "N = length(nodes)\n",
    "Ke = zeros(3,3)\n",
    "K = zeros(N,N)\n",
    "for (index,element) in enumerate(elements)\n",
    "    ABC = []\n",
    "    for nd in element\n",
    "        a , b= nodes[nd]\n",
    "        ABC = vcat(ABC, [a, b, 1])\n",
    "        \n",
    "        \n",
    "    end\n",
    "    ABC = transpose(reshape(ABC, 3, 3))\n",
    "    ABC = inv(float.(ABC))\n",
    "\n",
    "    for i in 1:3\n",
    "        for j in 1:3\n",
    "            Ke[i,j] = ABC[1,i]*ABC[1,j] + ABC[2, i]*ABC[2, j]\n",
    "        end\n",
    "    end\n",
    "\n",
    "    Ke = Ke * Areas[index]\n",
    "\n",
    "    for (local_i, real_i) in enumerate(element)\n",
    "        for (local_j, real_j) in enumerate(element)\n",
    "            K[real_i, real_j]+= Ke[local_i, local_j]\n",
    "        end\n",
    "    end\n",
    "    \n",
    "\n",
    "end\n",
    "\n",
    "display(K)"
   ]
  },
  {
   "attachments": {},
   "cell_type": "markdown",
   "metadata": {},
   "source": [
    "Create de M matrix"
   ]
  },
  {
   "cell_type": "code",
   "execution_count": 78,
   "metadata": {},
   "outputs": [
    {
     "data": {
      "text/plain": [
       "8×8 Matrix{Float64}:\n",
       " 0.333333  0.0  0.0        0.0        0.0  0.0        0.0       0.0\n",
       " 0.0       0.5  0.0        0.0        0.0  0.0        0.0       0.0\n",
       " 0.0       0.0  0.0833333  0.0        0.0  0.0        0.0       0.0\n",
       " 0.0       0.0  0.0        0.0833333  0.0  0.0        0.0       0.0\n",
       " 0.0       0.0  0.0        0.0        0.5  0.0        0.0       0.0\n",
       " 0.0       0.0  0.0        0.0        0.0  0.0833333  0.0       0.0\n",
       " 0.0       0.0  0.0        0.0        0.0  0.0        0.333333  0.0\n",
       " 0.0       0.0  0.0        0.0        0.0  0.0        0.0       0.0833333"
      ]
     },
     "metadata": {},
     "output_type": "display_data"
    }
   ],
   "source": [
    "M = zeros(N,N)\n",
    "\n",
    "for (index,element) in enumerate(elements)\n",
    "    Me = I(3)\n",
    "    Me = Me*Areas[index]/3\n",
    "    #display(Me)\n",
    "    for (local_i, real_i) in enumerate(element)\n",
    "        M[real_i, real_i]+= Me[local_i, local_i]\n",
    "    end\n",
    "end\n",
    "display(M)\n"
   ]
  },
  {
   "cell_type": "markdown",
   "metadata": {},
   "source": [
    "Damping Matrix"
   ]
  },
  {
   "cell_type": "code",
   "execution_count": 81,
   "metadata": {},
   "outputs": [
    {
     "data": {
      "text/plain": [
       "8×8 Matrix{Float64}:\n",
       " 0.0333333  0.0   0.0         …  0.0         0.0        0.0\n",
       " 0.0        0.05  0.0            0.0         0.0        0.0\n",
       " 0.0        0.0   0.00833333     0.0         0.0        0.0\n",
       " 0.0        0.0   0.0            0.0         0.0        0.0\n",
       " 0.0        0.0   0.0            0.0         0.0        0.0\n",
       " 0.0        0.0   0.0         …  0.00833333  0.0        0.0\n",
       " 0.0        0.0   0.0            0.0         0.0333333  0.0\n",
       " 0.0        0.0   0.0            0.0         0.0        0.00833333"
      ]
     },
     "metadata": {},
     "output_type": "display_data"
    }
   ],
   "source": [
    "α = 0.1\n",
    "C = M * α\n",
    "display(C)"
   ]
  }
 ],
 "metadata": {
  "kernelspec": {
   "display_name": "Julia 1.6.7",
   "language": "julia",
   "name": "julia-1.6"
  },
  "language_info": {
   "file_extension": ".jl",
   "mimetype": "application/julia",
   "name": "julia",
   "version": "1.6.7"
  },
  "orig_nbformat": 4
 },
 "nbformat": 4,
 "nbformat_minor": 2
}
