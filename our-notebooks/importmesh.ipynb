{
 "cells": [
  {
   "cell_type": "code",
   "execution_count": 2,
   "metadata": {},
   "outputs": [],
   "source": [
    "using Gmsh\n",
    "using Gridap\n",
    "using GridapGmsh"
   ]
  },
  {
   "attachments": {},
   "cell_type": "markdown",
   "metadata": {},
   "source": [
    "Import the Mesh to a model and get the nodes and elements"
   ]
  },
  {
   "cell_type": "code",
   "execution_count": 135,
   "metadata": {},
   "outputs": [
    {
     "name": "stdout",
     "output_type": "stream",
     "text": [
      "Info    : Reading '../data/VenturaAccelerometer/test_mesh_v2.msh'...\n",
      "Info    : 1 entity\n",
      "Info    : 8 nodes\n",
      "Info    : 6 elements\n",
      "Info    : Done reading '../data/VenturaAccelerometer/test_mesh_v2.msh'\n"
     ]
    },
    {
     "data": {
      "text/plain": [
       "8-element Vector{VectorValue{2, Float64}}:\n",
       " VectorValue{2, Float64}(-1.0, 0.5)\n",
       "  VectorValue{2, Float64}(0.0, 1.0)\n",
       " VectorValue{2, Float64}(-1.0, 1.0)\n",
       " VectorValue{2, Float64}(-1.0, 0.0)\n",
       "  VectorValue{2, Float64}(0.0, 0.0)\n",
       "  VectorValue{2, Float64}(1.0, 0.0)\n",
       "  VectorValue{2, Float64}(1.0, 0.5)\n",
       "  VectorValue{2, Float64}(1.0, 1.0)"
      ]
     },
     "metadata": {},
     "output_type": "display_data"
    }
   ],
   "source": [
    "model = GmshDiscreteModel(\"../data/VenturaAccelerometer/test_mesh_v2.msh\")\n",
    "nodes = model.grid.node_coordinates\n",
    "\n"
   ]
  },
  {
   "cell_type": "code",
   "execution_count": 130,
   "metadata": {},
   "outputs": [
    {
     "data": {
      "text/plain": [
       "6-element Gridap.Arrays.Table{Int32, Vector{Int32}, Vector{Int32}}:\n",
       " [1, 2, 3]\n",
       " [1, 4, 5]\n",
       " [5, 6, 7]\n",
       " [1, 2, 5]\n",
       " [2, 5, 7]\n",
       " [2, 7, 8]"
      ]
     },
     "metadata": {},
     "output_type": "display_data"
    }
   ],
   "source": [
    "elements = model.grid.cell_node_ids"
   ]
  },
  {
   "attachments": {},
   "cell_type": "markdown",
   "metadata": {},
   "source": [
    "Get all the areas of the elements"
   ]
  },
  {
   "cell_type": "code",
   "execution_count": 133,
   "metadata": {},
   "outputs": [
    {
     "name": "stdout",
     "output_type": "stream",
     "text": [
      "[0.25, 0.25, 0.25, 0.5, 0.5, 0.25]\n",
      "2.0\n"
     ]
    }
   ],
   "source": [
    "Areas = zeros(length(elements))\n",
    "A = 0\n",
    "for (i, element) in enumerate(elements)\n",
    "    area = 0\n",
    "    for j in 1:length(element)\n",
    "        k = j % length(element) + 1\n",
    "        area += nodes[element[j]][1] * nodes[element[k]][2] - nodes[element[j]][2] * nodes[element[k]][1]\n",
    "    end \n",
    "    Areas[i] = abs(area)/2  \n",
    "\n",
    "end\n",
    "println(Areas)\n",
    "println(sum(Areas))\n"
   ]
  },
  {
   "attachments": {},
   "cell_type": "markdown",
   "metadata": {},
   "source": [
    "Compute the K matrix"
   ]
  },
  {
   "cell_type": "code",
   "execution_count": 132,
   "metadata": {},
   "outputs": [],
   "source": [
    "for element in elements\n",
    "    K2 = zeros(length(element), length(element))\n",
    "    #println(K2)\n",
    "end"
   ]
  }
 ],
 "metadata": {
  "kernelspec": {
   "display_name": "Julia 1.6.7",
   "language": "julia",
   "name": "julia-1.6"
  },
  "language_info": {
   "file_extension": ".jl",
   "mimetype": "application/julia",
   "name": "julia",
   "version": "1.6.7"
  },
  "orig_nbformat": 4
 },
 "nbformat": 4,
 "nbformat_minor": 2
}
