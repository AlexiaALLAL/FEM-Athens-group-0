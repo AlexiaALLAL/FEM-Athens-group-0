{
 "cells": [
  {
   "cell_type": "code",
   "execution_count": 2,
   "metadata": {},
   "outputs": [],
   "source": [
    "using Gmsh\n",
    "using Gridap\n",
    "using GridapGmsh"
   ]
  },
  {
   "cell_type": "code",
   "execution_count": 8,
   "metadata": {},
   "outputs": [
    {
     "name": "stdout",
     "output_type": "stream",
     "text": [
      "Info    : Reading '../data/VenturaAccelerometer/test_mesh_01.msh'...\n",
      "Info    : 6 nodes\n",
      "Info    : 2 elements\n",
      "Info    : Done reading '../data/VenturaAccelerometer/test_mesh_01.msh'\n",
      "Info    : Renumbering nodal model data (3 steps)\n",
      "Info    : Renumbering element model data (2 steps)\n"
     ]
    },
    {
     "data": {
      "text/plain": [
       "UnstructuredDiscreteModel()"
      ]
     },
     "metadata": {},
     "output_type": "display_data"
    }
   ],
   "source": [
    "model = GmshDiscreteModel(\"../data/VenturaAccelerometer/test_mesh_01.msh\")"
   ]
  },
  {
   "cell_type": "code",
   "execution_count": 12,
   "metadata": {},
   "outputs": [
    {
     "ename": "ErrorException",
     "evalue": "type UnstructuredDiscreteModel has no field coordinates",
     "output_type": "error",
     "traceback": [
      "type UnstructuredDiscreteModel has no field coordinates\n",
      "\n",
      "Stacktrace:\n",
      " [1] getproperty(x::Gridap.Geometry.UnstructuredDiscreteModel{2, 2, Float64, Gridap.Geometry.NonOriented}, f::Symbol)\n",
      "   @ Base ./Base.jl:33\n",
      " [2] top-level scope\n",
      "   @ ~/dev/Athens/FEM-Athens-group-0/our-notebooks/importmesh.ipynb:1"
     ]
    }
   ],
   "source": [
    "nodes = model.coordinates\n",
    "print(nodes)"
   ]
  },
  {
   "cell_type": "code",
   "execution_count": 27,
   "metadata": {},
   "outputs": [
    {
     "name": "stdout",
     "output_type": "stream",
     "text": [
      "61 0.0 0.0 0.02 0.1 0.0 0.03 0.1 0.3 0.04 0.0 0.3 0.05 0.0 0.15 0.06 0.1 0.15 0.0"
     ]
    }
   ],
   "source": [
    "file = open(\"../data/VenturaAccelerometer/test_mesh_01.msh\")\n",
    "nodes_start = 0\n",
    "nodes_end = 0\n",
    "# Iterate over the lines of the file\n",
    "for (i, line) in enumerate(eachline(file))    # Process the line\n",
    "\n",
    "    switch line\n",
    "        case \"\\$Nodes\"\n",
    "            nodes_start = i\n",
    "        case \"\\$EndNodes\"\n",
    "            nodes_end = i\n",
    "    end\n",
    "    \n",
    "end\n",
    "print(nodes_start)\n",
    "print(nodes_end)\n",
    "# Close the file\n",
    "close(file)"
   ]
  }
 ],
 "metadata": {
  "kernelspec": {
   "display_name": "Julia 1.6.7",
   "language": "julia",
   "name": "julia-1.6"
  },
  "language_info": {
   "file_extension": ".jl",
   "mimetype": "application/julia",
   "name": "julia",
   "version": "1.6.7"
  },
  "orig_nbformat": 4
 },
 "nbformat": 4,
 "nbformat_minor": 2
}
