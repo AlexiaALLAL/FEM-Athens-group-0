{
 "cells": [
  {
   "cell_type": "code",
   "execution_count": 2,
   "metadata": {},
   "outputs": [],
   "source": [
    "using Gmsh\n",
    "using Gridap\n",
    "using GridapGmsh"
   ]
  },
  {
   "attachments": {},
   "cell_type": "markdown",
   "metadata": {},
   "source": [
    "Import the Mesh to a model and get the nodes and elements"
   ]
  },
  {
   "cell_type": "code",
   "execution_count": 82,
   "metadata": {},
   "outputs": [
    {
     "name": "stdout",
     "output_type": "stream",
     "text": [
      "Info    : Reading '../data/VenturaAccelerometer/test_mesh_01.msh'...\n",
      "Info    : 6 nodes\n",
      "Info    : 2 elements\n",
      "Info    : Done reading '../data/VenturaAccelerometer/test_mesh_01.msh'\n",
      "Info    : Renumbering nodal model data (3 steps)\n",
      "Info    : Renumbering element model data (2 steps)\n",
      "[0.015, 0.015]\n"
     ]
    }
   ],
   "source": [
    "model = GmshDiscreteModel(\"../data/VenturaAccelerometer/test_mesh_01.msh\")\n",
    "nodes = model.grid.node_coordinates\n",
    "elements = model.grid.cell_node_ids\n",
    "Areas = zeros(length(elements))\n"
   ]
  },
  {
   "attachments": {},
   "cell_type": "markdown",
   "metadata": {},
   "source": [
    "Get all the areas of the elements"
   ]
  },
  {
   "cell_type": "code",
   "execution_count": null,
   "metadata": {},
   "outputs": [],
   "source": [
    "A = 0\n",
    "#print(nodes[2][2])\n",
    "for (i, element) in enumerate(elements)\n",
    "    A1 = 0\n",
    "    A2 = 0\n",
    "    for i in length(element)-1\n",
    "        A1 += nodes[i][1]*nodes[i+1][2]\n",
    "        A2 += nodes[i][2]*nodes[i+1][1]\n",
    "    end\n",
    "    A += abs(A1-A2)/2  \n",
    "    Areas[i] = abs(A1-A2)/2  \n",
    "\n",
    "end\n",
    "println(Areas)\n"
   ]
  },
  {
   "attachments": {},
   "cell_type": "markdown",
   "metadata": {},
   "source": [
    "Compute the K matrix"
   ]
  },
  {
   "cell_type": "code",
   "execution_count": null,
   "metadata": {},
   "outputs": [],
   "source": [
    "for element in elements\n",
    "    K2 = zeros(length(element), length(element))\n",
    "    println(K2)\n",
    "end"
   ]
  }
 ],
 "metadata": {
  "kernelspec": {
   "display_name": "Julia 1.6.7",
   "language": "julia",
   "name": "julia-1.6"
  },
  "language_info": {
   "file_extension": ".jl",
   "mimetype": "application/julia",
   "name": "julia",
   "version": "1.6.7"
  },
  "orig_nbformat": 4
 },
 "nbformat": 4,
 "nbformat_minor": 2
}
