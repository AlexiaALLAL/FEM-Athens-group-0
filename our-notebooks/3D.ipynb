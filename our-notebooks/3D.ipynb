{
 "cells": [
  {
   "attachments": {},
   "cell_type": "markdown",
   "metadata": {},
   "source": [
    "## 3D Version"
   ]
  },
  {
   "cell_type": "code",
   "execution_count": 1,
   "metadata": {},
   "outputs": [],
   "source": [
    "using Gmsh\n",
    "using Gridap\n",
    "using GridapGmsh\n",
    "using LinearAlgebra\n",
    "using Plots\n",
    "using DifferentialEquations"
   ]
  },
  {
   "attachments": {},
   "cell_type": "markdown",
   "metadata": {},
   "source": [
    "Import the Mesh to a model and get the nodes and elements"
   ]
  },
  {
   "cell_type": "code",
   "execution_count": null,
   "metadata": {},
   "outputs": [],
   "source": [
    "model = GmshDiscreteModel(\"../data/VenturaAccelerometer/test_mesh_v2.msh\")\n",
    "nodes = model.grid.node_coordinates\n",
    "elements = model.grid.cell_node_ids"
   ]
  },
  {
   "attachments": {},
   "cell_type": "markdown",
   "metadata": {},
   "source": [
    "Get all the areas of the elements"
   ]
  },
  {
   "cell_type": "code",
   "execution_count": null,
   "metadata": {},
   "outputs": [],
   "source": [
    "Areas = zeros(length(elements))\n",
    "A = 0\n",
    "for (i, element) in enumerate(elements)\n",
    "    area = 0\n",
    "    for j in 1:length(element)\n",
    "        k = j % length(element) + 1\n",
    "        area += nodes[element[j]][1] * nodes[element[k]][2] - nodes[element[j]][2] * nodes[element[k]][1]\n",
    "    end \n",
    "    Areas[i] = abs(area)/2  \n",
    "\n",
    "end\n",
    "println(Areas)\n",
    "println(sum(Areas))\n",
    "println(length)"
   ]
  },
  {
   "attachments": {},
   "cell_type": "markdown",
   "metadata": {},
   "source": [
    "F funtion"
   ]
  },
  {
   "cell_type": "code",
   "execution_count": null,
   "metadata": {},
   "outputs": [],
   "source": [
    "function load(x, y, t)\n",
    "    x0 = 0.0\n",
    "    y0 = 0.0\n",
    "    sigmax = 1\n",
    "    sigmay = 1\n",
    "    return exp(-(((x-x0)^2)/(2*sigmax^2) + (y-y0)^2/(2*sigmay^2)))\n",
    "    # return float(x == 0 && y == 0)\n",
    "end\n",
    "\n",
    "# matlab: meshgrid function:\n",
    "function meshgrid(xin,yin)\n",
    "    nx=length(xin)\n",
    "    ny=length(yin)\n",
    "    xout=zeros(ny,nx)\n",
    "    yout=zeros(ny,nx)\n",
    "    for jx=1:nx\n",
    "        for ix=1:ny\n",
    "            xout[ix,jx]=xin[jx]\n",
    "            yout[ix,jx]=yin[ix]\n",
    "        end\n",
    "    end\n",
    "    return (x=xout, y=yout)\n",
    "end\n",
    "\n",
    "# Plotting the load:\n",
    "x = LinRange(-1,1,15)\n",
    "y = LinRange(0, 1,15)\n",
    "X,Y  = meshgrid(x,y)\n",
    "fvalues = load.(X, Y, 0)\n",
    "\n",
    "surface(X,Y,fvalues)\n"
   ]
  },
  {
   "attachments": {},
   "cell_type": "markdown",
   "metadata": {},
   "source": [
    "F Matrix"
   ]
  },
  {
   "cell_type": "code",
   "execution_count": null,
   "metadata": {},
   "outputs": [],
   "source": [
    "N = length(nodes)\n",
    "Ke = zeros(3,3)\n",
    "K = zeros(N,N)\n",
    "F = zeros(N)\n",
    "for (index,element) in enumerate(elements)\n",
    "    COORDS = []\n",
    "    for nd in element\n",
    "        xi, yi= nodes[nd]\n",
    "        COORDS = vcat(COORDS, [xi, yi, 1])\n",
    "    end\n",
    "    COORDS = transpose(reshape(COORDS, 3, 3))\n",
    "    ABC = inv(float.(COORDS))\n",
    "\n",
    "    for i in 1:3\n",
    "        for j in 1:3\n",
    "            Ke[i,j] = ABC[1,i]*ABC[1,j] + ABC[2, i]*ABC[2, j]\n",
    "        end\n",
    "    end\n",
    "\n",
    "    Ke = Ke * Areas[index]\n",
    "\n",
    "    for (local_i, real_i) in enumerate(element)\n",
    "        for (local_j, real_j) in enumerate(element)\n",
    "            K[real_i, real_j]+= Ke[local_i, local_j]\n",
    "        end\n",
    "    end\n",
    "\n",
    "    # F, LOAD VECTOR\n",
    "    for (local_i, global_i) in enumerate(element)\n",
    "        fe = zeros(3)\n",
    "        for (k,nd) in enumerate(element)\n",
    "            xi,yi = nodes[nd]\n",
    "            fe[k] = load(xi, yi, 0)\n",
    "        end\n",
    "        F[global_i] += fe[local_i] * Areas[index]/3\n",
    "    end\n",
    "\n",
    "end\n",
    "\n",
    "display(K)\n",
    "display(F)\n",
    "# println(Areas[(2)])\n",
    "# println(Areas[(3)])"
   ]
  },
  {
   "attachments": {},
   "cell_type": "markdown",
   "metadata": {},
   "source": [
    "#### Reduced Stiffness Matrix and Load Vector with Boundary Conditions\n",
    "\n",
    "Let:\n",
    "\n",
    "- ``BC_nodes``: vector with the local numbering of the nodes that have Dirichlet boundary conditions.\n",
    "\n",
    "- ``BC_values``: vector of the values of the actual boundary conditions."
   ]
  },
  {
   "cell_type": "code",
   "execution_count": null,
   "metadata": {},
   "outputs": [],
   "source": [
    "# Example that clamps the short edges of the plate, global nodes numbers: [1,3,4,6,7,8]\n",
    "\n",
    "# BC_nodes  = [1,3,4,6,7,8]\n",
    "# BC_values = [0,0,0,0,0,0]\n",
    "\n",
    "BC_nodes  = [1]\n",
    "BC_values = [0]\n",
    "\n",
    "for i in 1:N\n",
    "    if i in BC_nodes\n",
    "        K[i,:] = zeros(N)\n",
    "        K[i,i] = 1\n",
    "        index = findfirst.(isequal.(i), (BC_nodes,))\n",
    "        F[i] = BC_values[Int(index[1])]\n",
    "    end\n",
    "end\n",
    "display(K)\n",
    "display(F)"
   ]
  },
  {
   "attachments": {},
   "cell_type": "markdown",
   "metadata": {},
   "source": [
    "#### First time dependent approximation `K*c = F(x,y,t)`"
   ]
  },
  {
   "cell_type": "code",
   "execution_count": null,
   "metadata": {},
   "outputs": [],
   "source": [
    "# Time parameters\n",
    "t0 = 0\n",
    "dt = 0.1\n",
    "tf = 1\n",
    "times = Vector(t0:dt:tf)\n",
    "\n",
    "U = zeros(N,length(times))\n",
    "\n",
    "for (t_index,t) in enumerate(times)\n",
    "    # Defining the F vector for each time step:\n",
    "    for (e_index,element) in enumerate(elements)\n",
    "        for (local_i, global_i) in enumerate(element)\n",
    "            fe = zeros(3)\n",
    "            for (k,nd) in enumerate(element)\n",
    "                xi,yi = nodes[nd]\n",
    "                fe[k] = load(xi, yi, 0)\n",
    "            end\n",
    "            F[global_i] += fe[local_i] * Areas[e_index]/3\n",
    "        end\n",
    "    end\n",
    "    # Reducing the F vector for each timestep (K is already reduced):\n",
    "    for i in 1:N\n",
    "        if i in BC_nodes\n",
    "            bc_index = findfirst.(isequal.(i), (BC_nodes,))\n",
    "            F[i] = BC_values[Int(bc_index[1])]\n",
    "        end\n",
    "    end\n",
    "\n",
    "    \n",
    "\n",
    "end\n"
   ]
  },
  {
   "attachments": {},
   "cell_type": "markdown",
   "metadata": {},
   "source": [
    "## Simple `K*c=F` solution and plot"
   ]
  },
  {
   "cell_type": "code",
   "execution_count": null,
   "metadata": {},
   "outputs": [],
   "source": [
    "c = K\\F"
   ]
  },
  {
   "cell_type": "code",
   "execution_count": null,
   "metadata": {},
   "outputs": [],
   "source": [
    "function get_XY_nodes(nodes)\n",
    "    N = size(nodes)[1]\n",
    "    X = zeros(N)\n",
    "    Y = zeros(N)\n",
    "    for k in 1:N    \n",
    "        X[k], Y[k] = nodes[k]\n",
    "    end\n",
    "    return X,Y\n",
    "end\n",
    "xvec, yvec = get_XY_nodes(nodes)\n",
    "print(\"Done\")"
   ]
  },
  {
   "cell_type": "code",
   "execution_count": null,
   "metadata": {},
   "outputs": [],
   "source": [
    "p1 = surface(xvec,yvec,c,st=:surface)\n",
    "xlabel!(\"x\")\n",
    "ylabel!(\"y\")\n",
    "zlabel!(\"u\")\n",
    "\n",
    "x = LinRange(-1,1,50)\n",
    "y = LinRange(0, 1,50)\n",
    "X,Y  = meshgrid(x,y)\n",
    "fvalues = load.(X, Y, 0)\n",
    "p2 = surface(X,Y,fvalues)\n",
    "plot(p1,p2, layout=(1,2), size=(900,400))\n"
   ]
  },
  {
   "attachments": {},
   "cell_type": "markdown",
   "metadata": {},
   "source": [
    "# TIME DEPENDENT PROBLEM"
   ]
  },
  {
   "attachments": {},
   "cell_type": "markdown",
   "metadata": {},
   "source": [
    "Create de M matrix"
   ]
  },
  {
   "cell_type": "code",
   "execution_count": null,
   "metadata": {},
   "outputs": [],
   "source": [
    "M = zeros(N,N)\n",
    "for (index,element) in enumerate(elements)\n",
    "    Me = I(3)\n",
    "    Me = Me*Areas[index]/3\n",
    "    #display(Me)\n",
    "    for (local_i, real_i) in enumerate(element)\n",
    "        M[real_i, real_i]+= Me[local_i, local_i]\n",
    "    end\n",
    "end\n",
    "display(M)"
   ]
  },
  {
   "cell_type": "markdown",
   "metadata": {},
   "source": [
    "Damping Matrix"
   ]
  },
  {
   "cell_type": "code",
   "execution_count": null,
   "metadata": {},
   "outputs": [],
   "source": [
    "alpha = 0.1\n",
    "beta  = 0.0\n",
    "C = alpha * M + beta * K\n",
    "display(C)"
   ]
  },
  {
   "cell_type": "markdown",
   "metadata": {},
   "source": [
    "### Forcing node 5 with a cos(t) Force"
   ]
  },
  {
   "cell_type": "code",
   "execution_count": null,
   "metadata": {},
   "outputs": [],
   "source": [
    "function load(x, y, t)\n",
    "    x0 = 0.0\n",
    "    y0 = 0.0\n",
    "    sigmax = 1\n",
    "    sigmay = 1\n",
    "    return exp(-(((x-x0)^2)/(2*sigmax^2) + (y-y0)^2/(2*sigmay^2)))*(20-t)\n",
    "    # return float(x == 0 && y == 0)\n",
    "end\n",
    "\n",
    "function bigF(t)\n",
    "    # xvec, yvec; were the vectors with the coordinates of the nodes\n",
    "    bigD = zeros(N)\n",
    "    for k in 1:N\n",
    "        # bigD[k] = load(xvec[k],yvec[k],t)\n",
    "        bigD[k] = 0\n",
    "    end\n",
    "\n",
    "    bigD[5] = 2*cos(t)\n",
    "    return bigD\n",
    "end\n",
    "\n",
    "#println(bigF(1))\n",
    "\n",
    "#..define the right-hand side of the ordinary differential equation of the equation of motion \n",
    "function CompleteProblem!(ddu,du,u,p,t)\n",
    "    # ddu .= (-K*u .-C.*du + F)#.*inv(M)\n",
    "    ddu .= inv(M) * (bigF(t) - K*u - C*du)\n",
    "end\n",
    "\n",
    "#..set initial position and velocity\n",
    "u0 = fill(0.,N)\n",
    "# u0[8] = .2\n",
    "\n",
    "v0 = zeros(N)\n",
    "v0[4] = 1\n",
    "                                    \n",
    "#..set time begin and end forward\n",
    "tspan = (0.0,100.0)           \n",
    "\n",
    "#..define ODE problem to be solved  \n",
    "prob = SecondOrderODEProblem(CompleteProblem!,v0,u0,tspan)\n",
    "\n",
    "#..solve ODE problem \n",
    "sol = DifferentialEquations.solve(prob)\n",
    "\n",
    "println(sol(1))\n"
   ]
  },
  {
   "cell_type": "code",
   "execution_count": null,
   "metadata": {},
   "outputs": [],
   "source": [
    "\n",
    "#..plot the source term\n",
    "tvec = Vector(0.:0.01:10.)\n",
    "#fvec = f.(tvec)\n",
    "# p1 = plot(tvec,fvec,label=\"Excitation\")\n",
    "\n",
    "\n",
    "#..velocity and position have vars=(1,2) and vars=(3,4), respectively. \n",
    "plot(sol,vars=1)\n",
    "for i in 2:N-1\n",
    "    plot!(sol,vars=i)\n",
    "end\n",
    "p1 = plot!(sol,vars=N)\n",
    "\n",
    "plot(sol,vars=N+1)\n",
    "for i in N+2:2*N-1\n",
    "    plot!(sol,vars=i)\n",
    "end\n",
    "p2 = plot!(sol,vars=2*N)\n",
    "\n",
    "\n",
    "#..plot solution of velocity and position as function of time  \n",
    "plot(p1,p2,layout=(2,1))\n"
   ]
  },
  {
   "cell_type": "code",
   "execution_count": null,
   "metadata": {},
   "outputs": [],
   "source": [
    "\n",
    "anim = @animate for i ∈ 1:100\n",
    "    surface(xvec,yvec,sol(i/10)[N+1:2*N],st=:surface)\n",
    "    zlims!(-10, 10)\n",
    "end\n",
    "gif(anim, \"../data/anim_fps15.gif\", fps = 15)\n",
    "150"
   ]
  },
  {
   "attachments": {},
   "cell_type": "markdown",
   "metadata": {},
   "source": [
    "### Moddeling Impact Force on Center of Plane"
   ]
  },
  {
   "cell_type": "code",
   "execution_count": null,
   "metadata": {},
   "outputs": [],
   "source": [
    "function load(x, y, t)\n",
    "    x0 = 0.0\n",
    "    y0 = 0.0\n",
    "    sigmax = 1\n",
    "    sigmay = 1\n",
    "    return 1/10*exp(-(((x-x0)^2)/(2*sigmax^2) + (y-y0)^2/(2*sigmay^2)))*(20-t)\n",
    "    # return float(x == 0 && y == 0)\n",
    "end\n",
    "\n",
    "function bigF(t)\n",
    "    # xvec, yvec; were the vectors with the coordinates of the nodes\n",
    "    bigD = zeros(N)\n",
    "    for k in 1:N\n",
    "        bigD[k] = load(xvec[k],yvec[k],t)\n",
    "    end\n",
    "\n",
    "    bigD[2] = 0\n",
    "    return bigD\n",
    "end\n",
    "\n",
    "#println(bigF(1))\n",
    "\n",
    "#..define the right-hand side of the ordinary differential equation of the equation of motion \n",
    "function CompleteProblem!(ddu,du,u,p,t)\n",
    "    # ddu .= (-K*u .-C.*du + F)#.*inv(M)\n",
    "    ddu .= inv(M) * (bigF(t) - K*u - C*du)\n",
    "end\n",
    "\n",
    "#..set initial position and velocity\n",
    "u0 = fill(0.,N)\n",
    "# u0[8] = .2\n",
    "\n",
    "v0 = zeros(N)\n",
    "v0[4] = 1\n",
    "                                    \n",
    "#..set time begin and end forward\n",
    "tspan = (0.0,100.0)           \n",
    "\n",
    "#..define ODE problem to be solved  \n",
    "prob = SecondOrderODEProblem(CompleteProblem!,v0,u0,tspan)\n",
    "\n",
    "#..solve ODE problem \n",
    "sol = DifferentialEquations.solve(prob)\n",
    "\n",
    "println(sol(1))\n"
   ]
  },
  {
   "cell_type": "code",
   "execution_count": null,
   "metadata": {},
   "outputs": [],
   "source": [
    "\n",
    "#..plot the source term\n",
    "tvec = Vector(0.:0.01:10.)\n",
    "#fvec = f.(tvec)\n",
    "# p1 = plot(tvec,fvec,label=\"Excitation\")\n",
    "\n",
    "\n",
    "#..velocity and position have vars=(1,2) and vars=(3,4), respectively. \n",
    "plot(sol,vars=1)\n",
    "for i in 2:N-1\n",
    "    plot!(sol,vars=i)\n",
    "end\n",
    "p1 = plot!(sol,vars=N)\n",
    "\n",
    "plot(sol,vars=N+1)\n",
    "for i in N+2:2*N-1\n",
    "    plot!(sol,vars=i)\n",
    "end\n",
    "p2 = plot!(sol,vars=2*N)\n",
    "\n",
    "\n",
    "#..plot solution of velocity and position as function of time  \n",
    "plot(p1,p2,layout=(2,1))\n"
   ]
  },
  {
   "cell_type": "code",
   "execution_count": null,
   "metadata": {},
   "outputs": [],
   "source": [
    "\n",
    "anim = @animate for i ∈ 1:100\n",
    "    surface(xvec,yvec,sol(i/10)[N+1:2*N],st=:surface)\n",
    "    zlims!(-10, 20)\n",
    "end\n",
    "gif(anim, \"../data/anim_fps15.gif\", fps = 15)"
   ]
  }
 ],
 "metadata": {
  "kernelspec": {
   "display_name": "Julia 1.6.7",
   "language": "julia",
   "name": "julia-1.6"
  },
  "language_info": {
   "file_extension": ".jl",
   "mimetype": "application/julia",
   "name": "julia",
   "version": "1.6.7"
  },
  "orig_nbformat": 4
 },
 "nbformat": 4,
 "nbformat_minor": 2
}
