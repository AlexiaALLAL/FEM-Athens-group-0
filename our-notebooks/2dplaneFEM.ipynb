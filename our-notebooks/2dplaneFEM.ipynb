{
 "cells": [
  {
   "attachments": {},
   "cell_type": "markdown",
   "metadata": {},
   "source": [
    "Code for 2d Plane FEM"
   ]
  },
  {
   "attachments": {},
   "cell_type": "markdown",
   "metadata": {},
   "source": [
    "Imports"
   ]
  },
  {
   "cell_type": "code",
   "execution_count": 3,
   "metadata": {},
   "outputs": [],
   "source": [
    "using LinearAlgebra\n",
    "using DifferentialEquations\n",
    "using SparseArrays\n",
    "using Plots\n",
    "using LaTeXStrings\n",
    "using BenchmarkTools "
   ]
  },
  {
   "attachments": {},
   "cell_type": "markdown",
   "metadata": {},
   "source": [
    "Define the K Matrix"
   ]
  },
  {
   "cell_type": "code",
   "execution_count": 5,
   "metadata": {},
   "outputs": [
    {
     "name": "stdout",
     "output_type": "stream",
     "text": [
      "[1.0, 0.0, 0.0]\n"
     ]
    },
    {
     "name": "stdout",
     "output_type": "stream",
     "text": [
      "[-0.5, -0.25, 1.0]\n",
      "[0.0, 1.0, 0.0]\n",
      "[0.5, -0.25, 0.0]\n",
      "[0.0, 0.0, 1.0]\n",
      "[0.0, 0.5, 0.0]\n"
     ]
    }
   ],
   "source": [
    "ShapeMatrix = [0. 0. 1.; 2. 0. 1.; 1. 2. 1.]\n",
    "\n",
    "for i in 1:3\n",
    "    delta = zeros(3)\n",
    "    delta[i] = 1.\n",
    "    println(delta)\n",
    "\n",
    "    Coef = ShapeMatrix \\ delta\n",
    "\n",
    "    println(Coef)\n",
    "\n",
    "    println(ShapeMatrix*Coef)\n",
    "end"
   ]
  }
 ],
 "metadata": {
  "kernelspec": {
   "display_name": "Julia 1.6.7",
   "language": "julia",
   "name": "julia-1.6"
  },
  "language_info": {
   "file_extension": ".jl",
   "mimetype": "application/julia",
   "name": "julia",
   "version": "1.6.7"
  },
  "orig_nbformat": 4,
  "vscode": {
   "interpreter": {
    "hash": "e7370f93d1d0cde622a1f8e1c04877d8463912d04d973331ad4851f04de6915a"
   }
  }
 },
 "nbformat": 4,
 "nbformat_minor": 2
}
