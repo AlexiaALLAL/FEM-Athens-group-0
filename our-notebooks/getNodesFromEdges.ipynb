{
 "cells": [
  {
   "cell_type": "code",
   "execution_count": 1,
   "metadata": {},
   "outputs": [],
   "source": [
    "using Gmsh: gmsh\n",
    "using Gridap\n",
    "using GridapGmsh"
   ]
  },
  {
   "attachments": {},
   "cell_type": "markdown",
   "metadata": {},
   "source": [
    "We import the model:"
   ]
  },
  {
   "cell_type": "code",
   "execution_count": 4,
   "metadata": {},
   "outputs": [
    {
     "name": "stdout",
     "output_type": "stream",
     "text": [
      "Info    : Reading '../data/VenturaAccelerometer/door_2d_V2.msh'...\n",
      "Info    : 26 entities\n",
      "Info    : 116 nodes\n",
      "Info    : 155 elements\n",
      "Info    : Done reading '../data/VenturaAccelerometer/door_2d_V2.msh'\n"
     ]
    },
    {
     "name": "stderr",
     "output_type": "stream",
     "text": [
      "Warning : Gmsh has aleady been initialized\n"
     ]
    }
   ],
   "source": [
    "gmsh.initialize()\n",
    "gmsh.merge(\"../data/VenturaAccelerometer/door_2d_V2.msh\")"
   ]
  },
  {
   "attachments": {},
   "cell_type": "markdown",
   "metadata": {},
   "source": [
    "We get the required nodes from the mesh."
   ]
  },
  {
   "cell_type": "code",
   "execution_count": 41,
   "metadata": {},
   "outputs": [
    {
     "data": {
      "text/plain": [
       "6-element Vector{Any}:\n",
       "  1.0\n",
       "  4.0\n",
       " 33.0\n",
       " 34.0\n",
       " 35.0\n",
       " 36.0"
      ]
     },
     "metadata": {},
     "output_type": "display_data"
    },
    {
     "data": {
      "text/plain": [
       "6-element Vector{Float64}:\n",
       " 0.0\n",
       " 0.0\n",
       " 0.0\n",
       " 0.0\n",
       " 0.0\n",
       " 0.0"
      ]
     },
     "metadata": {},
     "output_type": "display_data"
    }
   ],
   "source": [
    "BC_nodes  = []\n",
    "\n",
    "\n",
    "#We get all the tags for each node\n",
    "# tags = gmsh.view.getTags()\n",
    "\n",
    "fixedtags=[13]\n",
    "\n",
    "#We get nodes assigned to a specific edge. first value shows the dimension (0: point, 1:edge, 2:surface), the second value represents the subgroup.\n",
    "for i in fixedtags\n",
    "    nds = gmsh.model.mesh.getNodesForPhysicalGroup(1, i)[1]\n",
    "\n",
    "    #It converts the values to integer\n",
    "    for j in nds\n",
    "        a = float(j)\n",
    "        push!(BC_nodes, a)\n",
    "    end\n",
    "\n",
    "end\n",
    "\n",
    "BC_values = zeros(length(BC_nodes))\n",
    "\n",
    "display(BC_nodes)\n",
    "display(BC_values)"
   ]
  },
  {
   "cell_type": "code",
   "execution_count": 59,
   "metadata": {},
   "outputs": [
    {
     "data": {
      "text/plain": [
       "62-element Vector{Any}:\n",
       "   9\n",
       "  10\n",
       "  11\n",
       "  12\n",
       "  59\n",
       "  60\n",
       "  61\n",
       "  62\n",
       "  63\n",
       "  64\n",
       "   ⋮\n",
       " 108\n",
       " 109\n",
       " 110\n",
       " 111\n",
       " 112\n",
       " 113\n",
       " 114\n",
       " 115\n",
       " 116"
      ]
     },
     "metadata": {},
     "output_type": "display_data"
    }
   ],
   "source": [
    "BC_nodes  = []\n",
    "\n",
    "tags = [14,15]\n",
    "\n",
    "for i in tags\n",
    "    nds = gmsh.model.mesh.getNodesForPhysicalGroup(2, i)[1]\n",
    "\n",
    "    for j in nds\n",
    "        a = Int8(j)\n",
    "        push!(BC_nodes, a)\n",
    "    end\n",
    "end\n",
    "display(BC_nodes)\n"
   ]
  }
 ],
 "metadata": {
  "kernelspec": {
   "display_name": "Julia 1.6.6",
   "language": "julia",
   "name": "julia-1.6"
  },
  "language_info": {
   "file_extension": ".jl",
   "mimetype": "application/julia",
   "name": "julia",
   "version": "1.6.6"
  },
  "orig_nbformat": 4
 },
 "nbformat": 4,
 "nbformat_minor": 2
}
